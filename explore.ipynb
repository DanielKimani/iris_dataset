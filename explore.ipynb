{
 "cells": [
  {
   "cell_type": "code",
   "execution_count": 146,
   "metadata": {
    "collapsed": false,
    "deletable": true,
    "editable": true
   },
   "outputs": [
    {
     "name": "stdout",
     "output_type": "stream",
     "text": [
      "   sepal_length  sepal_width  petal_length  petal_width  species_map\n",
      "0           5.1          3.5           1.4          0.2            0\n",
      "1           4.9          3.0           1.4          0.2            0\n",
      "2           4.7          3.2           1.3          0.2            0\n",
      "3           4.6          3.1           1.5          0.2            0\n",
      "4           5.0          3.6           1.4          0.2            0\n"
     ]
    }
   ],
   "source": [
    "#%load_ext autoreload\n",
    "#%autoreload 2\n",
    "%matplotlib inline\n",
    "\n",
    "import numpy as np\n",
    "import matplotlib as mpl\n",
    "import matplotlib.pyplot as plt\n",
    "import process\n",
    "import seaborn as sns"
   ]
  },
  {
   "cell_type": "code",
   "execution_count": null,
   "metadata": {
    "collapsed": true,
    "deletable": true,
    "editable": true
   },
   "outputs": [],
   "source": [
    "d = process_data()\n",
    "\n",
    "def partition(data):\n",
    "    \n",
    "    last_array = data.ix[:,-1]\n",
    "     \n",
    "    return [data.ix[last_array == i] for i in range(3)]\n",
    "\n",
    "_as, _bs, _cs = partition(d)\n",
    "\n",
    "_as.columns\n",
    "\n",
    "\n",
    "def plot_two_columns(data):\n",
    "    \n",
    "    cols = data.columns\n",
    "    \n",
    "    \n",
    "    for i in range(3):\n",
    "        col_i = cols[i]\n",
    "        for j in range(i,3):\n",
    "            \n",
    "            col_j = cols[j]\n",
    "            first_col, second_col = data.ix[:,i], data.ix[:,j]\n",
    "            \n",
    "    \n",
    "#f, (ax1, ax2, ax3) = plt.subplots(3, sharex=True, sharey=True)\n",
    "\n",
    "def f():\n",
    "    i,j = 1,4\n",
    "    xs = _as.ix[:,i]\n",
    "    ys = _as.ix[:,j]\n",
    "    plt.scatter(xs,ys, color = 'red')\n",
    "    xs = _bs.ix[:,i]\n",
    "    ys = _bs.ix[:,j]\n",
    "    plt.scatter(xs,ys, color ='blue')\n",
    "    xs = _cs.ix[:,i]\n",
    "    ys = _cs.ix[:,j]\n",
    "    plt.scatter(xs,ys, color ='green')"
   ]
  },
  {
   "cell_type": "raw",
   "metadata": {},
   "source": [
    "# Linear Models\n",
    "from sklearn import linear_model\n",
    "reg = linear_model.LinearRegression()\n",
    "reg.fit ([[0, 0], [1, 2], [2, 4]])\n",
    "#LinearRegression(copy_X=True, fit_intercept=True, n_jobs=1, normalize=False)\n",
    "reg.coef_\n",
    "\"\"\"\n",
    "np.arange(10)\n",
    "np.linspace(10, 100, 100)\n",
    "xs = [1,2,3,4,5]\n",
    "ys = [2 *x for x in xs]\n",
    "#reg.fit(X= xs,y = ys)\n",
    "\"\"\"\n",
    "\n",
    "\n",
    "\n",
    "\n",
    "reg.coef_"
   ]
  },
  {
   "cell_type": "code",
   "execution_count": null,
   "metadata": {
    "collapsed": true
   },
   "outputs": [],
   "source": []
  }
 ],
 "metadata": {
  "kernelspec": {
   "display_name": "Python 3",
   "language": "python",
   "name": "python3"
  },
  "language_info": {
   "codemirror_mode": {
    "name": "ipython",
    "version": 3
   },
   "file_extension": ".py",
   "mimetype": "text/x-python",
   "name": "python",
   "nbconvert_exporter": "python",
   "pygments_lexer": "ipython3",
   "version": "3.6.0"
  }
 },
 "nbformat": 4,
 "nbformat_minor": 2
}
